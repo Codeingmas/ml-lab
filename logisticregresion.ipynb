{
 "cells": [
  {
   "cell_type": "code",
   "execution_count": 46,
   "id": "sapphire-python",
   "metadata": {},
   "outputs": [],
   "source": [
    "import numpy as np\n",
    "import pandas as pd\n",
    "import math"
   ]
  },
  {
   "cell_type": "code",
   "execution_count": 47,
   "id": "expanded-rough",
   "metadata": {},
   "outputs": [],
   "source": [
    "data=pd.read_csv(\"/home/root1/Sajid/studata.csv\")"
   ]
  },
  {
   "cell_type": "code",
   "execution_count": 48,
   "id": "fancy-taxation",
   "metadata": {},
   "outputs": [
    {
     "data": {
      "text/html": [
       "<div>\n",
       "<style scoped>\n",
       "    .dataframe tbody tr th:only-of-type {\n",
       "        vertical-align: middle;\n",
       "    }\n",
       "\n",
       "    .dataframe tbody tr th {\n",
       "        vertical-align: top;\n",
       "    }\n",
       "\n",
       "    .dataframe thead th {\n",
       "        text-align: right;\n",
       "    }\n",
       "</style>\n",
       "<table border=\"1\" class=\"dataframe\">\n",
       "  <thead>\n",
       "    <tr style=\"text-align: right;\">\n",
       "      <th></th>\n",
       "      <th>x</th>\n",
       "      <th>y</th>\n",
       "      <th>z</th>\n",
       "    </tr>\n",
       "  </thead>\n",
       "  <tbody>\n",
       "    <tr>\n",
       "      <th>0</th>\n",
       "      <td>34.623660</td>\n",
       "      <td>78.024693</td>\n",
       "      <td>0</td>\n",
       "    </tr>\n",
       "    <tr>\n",
       "      <th>1</th>\n",
       "      <td>30.286711</td>\n",
       "      <td>43.894998</td>\n",
       "      <td>0</td>\n",
       "    </tr>\n",
       "    <tr>\n",
       "      <th>2</th>\n",
       "      <td>35.847409</td>\n",
       "      <td>72.902198</td>\n",
       "      <td>0</td>\n",
       "    </tr>\n",
       "    <tr>\n",
       "      <th>3</th>\n",
       "      <td>60.182599</td>\n",
       "      <td>86.308552</td>\n",
       "      <td>1</td>\n",
       "    </tr>\n",
       "    <tr>\n",
       "      <th>4</th>\n",
       "      <td>79.032736</td>\n",
       "      <td>75.344376</td>\n",
       "      <td>1</td>\n",
       "    </tr>\n",
       "  </tbody>\n",
       "</table>\n",
       "</div>"
      ],
      "text/plain": [
       "           x          y  z\n",
       "0  34.623660  78.024693  0\n",
       "1  30.286711  43.894998  0\n",
       "2  35.847409  72.902198  0\n",
       "3  60.182599  86.308552  1\n",
       "4  79.032736  75.344376  1"
      ]
     },
     "execution_count": 48,
     "metadata": {},
     "output_type": "execute_result"
    }
   ],
   "source": [
    "data.head()"
   ]
  },
  {
   "cell_type": "code",
   "execution_count": 49,
   "id": "fourth-belgium",
   "metadata": {},
   "outputs": [
    {
     "data": {
      "text/plain": [
       "100"
      ]
     },
     "execution_count": 49,
     "metadata": {},
     "output_type": "execute_result"
    }
   ],
   "source": [
    "len(data)"
   ]
  },
  {
   "cell_type": "code",
   "execution_count": 50,
   "id": "aerial-enlargement",
   "metadata": {},
   "outputs": [],
   "source": [
    "X=data['x'].values\n",
    "Y=data['y'].values\n",
    "Z=data['z'].values"
   ]
  },
  {
   "cell_type": "code",
   "execution_count": 51,
   "id": "destroyed-analyst",
   "metadata": {},
   "outputs": [],
   "source": [
    "shuffle_data=data.sample(frac=1)\n",
    "train_size=int(0.8*len(data))\n",
    "train_set=shuffle_data[:train_size]\n",
    "test_set =shuffle_data[train_size:]"
   ]
  },
  {
   "cell_type": "code",
   "execution_count": 52,
   "id": "successful-gross",
   "metadata": {},
   "outputs": [
    {
     "name": "stdout",
     "output_type": "stream",
     "text": [
      "            x          y  z\n",
      "28  61.830206  50.256108  0\n",
      "19  76.978784  47.575964  1\n",
      "29  38.785804  64.995681  0\n",
      "89  52.348004  60.769505  0\n",
      "47  97.771599  86.727822  1\n",
      "..        ...        ... ..\n",
      "12  82.307053  76.481963  1\n",
      "51  99.272527  60.999031  1\n",
      "63  30.058822  49.592974  0\n",
      "34  40.236894  71.167748  0\n",
      "33  52.045405  69.432860  1\n",
      "\n",
      "[80 rows x 3 columns]\n",
      "            x          y  z\n",
      "14  39.538339  76.036811  0\n",
      "30  61.379289  72.807887  1\n",
      "84  80.366756  90.960148  1\n",
      "6   61.106665  96.511426  1\n",
      "54  50.286496  49.804539  0\n",
      "41  51.547720  46.856290  0\n",
      "5   45.083277  56.316372  0\n",
      "86  42.075455  78.844786  0\n",
      "67  49.072563  51.883212  0\n",
      "76  47.264269  88.475865  1\n",
      "53  34.524514  60.396342  0\n",
      "46  77.193035  70.458200  1\n",
      "74  58.840956  75.858448  1\n",
      "88  78.635424  96.647427  1\n",
      "44  51.047752  45.822701  0\n",
      "20  67.372028  42.838438  0\n",
      "24  77.924091  68.972360  1\n",
      "1   30.286711  43.894998  0\n",
      "75  99.827858  72.369252  1\n",
      "98  55.340018  64.931938  1\n"
     ]
    }
   ],
   "source": [
    "print(train_set)\n",
    "print(test_set)"
   ]
  },
  {
   "cell_type": "code",
   "execution_count": 53,
   "id": "floppy-proceeding",
   "metadata": {},
   "outputs": [],
   "source": [
    "train_x1 = train_set['x'].values\n",
    "train_x2 = train_set['y'].values\n",
    "train_x=np.array(list(zip(train_x1,train_x2)))\n",
    "train_y = train_set['z'].values\n",
    "test_x1 = test_set['x'].values\n",
    "test_x2 = test_set['y'].values\n",
    "test_x=np.array(list(zip(test_x1,test_x2)))\n",
    "test_y = test_set['z'].values"
   ]
  },
  {
   "cell_type": "code",
   "execution_count": 54,
   "id": "unavailable-football",
   "metadata": {},
   "outputs": [
    {
     "name": "stdout",
     "output_type": "stream",
     "text": [
      "[[39.53833914 76.03681085]\n",
      " [61.37928945 72.80788731]\n",
      " [80.366756   90.9601479 ]\n",
      " [61.10666454 96.51142588]\n",
      " [50.28649612 49.80453881]\n",
      " [51.54772027 46.85629026]\n",
      " [45.08327748 56.31637178]\n",
      " [42.07545454 78.844786  ]\n",
      " [49.07256322 51.88321182]\n",
      " [47.26426911 88.475865  ]\n",
      " [34.52451385 60.39634246]\n",
      " [77.19303493 70.4582    ]\n",
      " [58.84095622 75.85844831]\n",
      " [78.63542435 96.64742717]\n",
      " [51.04775177 45.82270146]\n",
      " [67.37202755 42.83843832]\n",
      " [77.92409145 68.97235999]\n",
      " [30.28671077 43.89499752]\n",
      " [99.8278578  72.36925193]\n",
      " [55.34001756 64.93193801]] [0 1 1 1 0 0 0 0 0 1 0 1 1 1 0 0 1 0 1 1]\n"
     ]
    }
   ],
   "source": [
    "print(test_x,test_y)"
   ]
  },
  {
   "cell_type": "code",
   "execution_count": 55,
   "id": "lightweight-completion",
   "metadata": {},
   "outputs": [
    {
     "name": "stdout",
     "output_type": "stream",
     "text": [
      "[[61.83020602 50.25610789]\n",
      " [76.97878373 47.57596365]\n",
      " [38.7858038  64.99568096]\n",
      " [52.34800399 60.76950526]\n",
      " [97.77159928 86.72782233]\n",
      " [53.97105215 89.20735014]\n",
      " [75.01365839 30.60326323]\n",
      " [90.54671411 43.39060181]\n",
      " [60.45788574 73.0949981 ]\n",
      " [80.19018075 44.82162893]\n",
      " [93.1143888  38.80067034]\n",
      " [60.18259939 86.3085521 ]\n",
      " [74.49269242 84.84513685]\n",
      " [83.48916274 48.3802858 ]\n",
      " [40.45755098 97.53518549]\n",
      " [35.84740877 72.90219803]\n",
      " [69.36458876 97.71869196]\n",
      " [32.57720017 95.59854761]\n",
      " [89.84580671 45.35828361]\n",
      " [64.17698887 80.90806059]\n",
      " [99.31500881 68.77540947]\n",
      " [44.66826172 66.45008615]\n",
      " [34.21206098 44.2095286 ]\n",
      " [88.91389642 69.8037889 ]\n",
      " [90.44855097 87.50879176]\n",
      " [35.28611282 47.02051395]\n",
      " [64.03932042 78.03168802]\n",
      " [62.0730638  96.76882412]\n",
      " [50.4581598  75.80985953]\n",
      " [66.56089447 41.09209808]\n",
      " [68.46852179 85.5943071 ]\n",
      " [34.62365962 78.02469282]\n",
      " [62.22267576 52.06099195]\n",
      " [80.27957401 92.11606081]\n",
      " [75.39561147 85.75993667]\n",
      " [72.34649423 96.22759297]\n",
      " [95.86155507 38.22527806]\n",
      " [84.43281996 43.53339331]\n",
      " [74.78925296 41.57341523]\n",
      " [74.24869137 69.82457123]\n",
      " [66.74671857 60.99139403]\n",
      " [34.18364003 75.23772034]\n",
      " [57.23870632 59.51428198]\n",
      " [70.66150955 92.92713789]\n",
      " [42.26170081 87.10385094]\n",
      " [79.03273605 75.34437644]\n",
      " [94.83450672 45.6943068 ]\n",
      " [56.2538175  39.26147251]\n",
      " [71.79646206 78.45356225]\n",
      " [49.58667722 59.80895099]\n",
      " [76.0987867  87.42056972]\n",
      " [94.09433113 77.15910509]\n",
      " [54.63510555 52.21388588]\n",
      " [62.27101367 69.95445795]\n",
      " [67.31925747 66.58935318]\n",
      " [50.53478829 48.85581153]\n",
      " [33.91550011 98.86943574]\n",
      " [82.22666158 42.71987854]\n",
      " [97.64563396 68.86157272]\n",
      " [60.45555629 42.50840944]\n",
      " [83.90239366 56.30804622]\n",
      " [75.02474557 46.55401354]\n",
      " [79.94481794 74.16311935]\n",
      " [32.72283304 43.30717306]\n",
      " [94.44336777 65.56892161]\n",
      " [67.94685548 46.67857411]\n",
      " [52.10797973 63.12762377]\n",
      " [74.775893   89.5298129 ]\n",
      " [89.67677575 65.79936593]\n",
      " [69.07014406 52.74046973]\n",
      " [55.48216114 35.57070347]\n",
      " [85.40451939 57.05198398]\n",
      " [82.36875376 40.61825516]\n",
      " [75.47770201 90.424539  ]\n",
      " [91.5649745  88.69629255]\n",
      " [82.30705337 76.4819633 ]\n",
      " [99.27252693 60.999031  ]\n",
      " [30.05882245 49.59297387]\n",
      " [40.23689374 71.16774802]\n",
      " [52.04540477 69.43286012]] [0 1 0 0 1 1 0 1 1 1 0 1 1 1 1 0 1 0 1 1 1 0 0 1 1 0 1 1 1 0 1 0 0 1 1 1 0\n",
      " 1 0 1 1 0 1 1 1 1 1 0 1 0 1 1 0 1 1 0 0 0 1 0 1 1 1 0 1 0 0 1 1 1 0 1 0 1\n",
      " 1 1 1 0 0 1]\n"
     ]
    }
   ],
   "source": [
    "print(train_x,train_y)"
   ]
  },
  {
   "cell_type": "code",
   "execution_count": 82,
   "id": "outside-consultation",
   "metadata": {},
   "outputs": [],
   "source": [
    "b0=0.0\n",
    "b1=0.0\n",
    "b2=0.0\n",
    "\n",
    "# b = b + alpha * (y – prediction) * prediction * (1 – prediction) * x\n",
    "# Let’s update the coefficients using the prediction (0.5) and coefficient values (0.0) from the previous slide.\n",
    "# b0 = b0 + 0.3 * (0 – 0.5) * 0.5 * (1 – 0.5) * 1.0\n",
    "# b1 = b1 + 0.3 * (0 – 0.5) * 0.5 * (1 – 0.5) * 2.7810836\n",
    "# b2 = b2 + 0.3 * (0 – 0.5) * 0.5 * (1 – 0.5) * 2.550537003"
   ]
  },
  {
   "cell_type": "code",
   "execution_count": 83,
   "id": "authorized-convergence",
   "metadata": {},
   "outputs": [],
   "source": [
    "epoch=5000\n",
    "alpha=0.01\n",
    "for i in range(epoch):\n",
    "    y=b0+b1*train_x1+b2*train_x2\n",
    "    p=1/(1+np.exp(-y))\n",
    "    p=np.round_(p)\n",
    "    b0=b0+alpha*(train_y-p)*p*(1-p)*1\n",
    "    b1=b1+alpha*(train_y-p)*p*(1-p)*train_x1\n",
    "    b2=b2+alpha*(train_y-p)*p*(1-p)*train_x2"
   ]
  },
  {
   "cell_type": "code",
   "execution_count": 84,
   "id": "consolidated-consideration",
   "metadata": {},
   "outputs": [
    {
     "name": "stdout",
     "output_type": "stream",
     "text": [
      "[0. 0. 0. 0. 0. 0. 0. 0. 0. 0. 0. 0. 0. 0. 0. 0. 0. 0. 0. 0. 0. 0. 0. 0.\n",
      " 0. 0. 0. 0. 0. 0. 0. 0. 0. 0. 0. 0. 0. 0. 0. 0. 0. 0. 0. 0. 0. 0. 0. 0.\n",
      " 0. 0. 0. 0. 0. 0. 0. 0. 0. 0. 0. 0. 0. 0. 0. 0. 0. 0. 0. 0. 0. 0. 0. 0.\n",
      " 0. 0. 0. 0. 0. 0. 0. 0.]\n"
     ]
    }
   ],
   "source": [
    "print(p)"
   ]
  },
  {
   "cell_type": "code",
   "execution_count": null,
   "id": "alleged-disorder",
   "metadata": {},
   "outputs": [],
   "source": []
  }
 ],
 "metadata": {
  "kernelspec": {
   "display_name": "Python 3",
   "language": "python",
   "name": "python3"
  },
  "language_info": {
   "codemirror_mode": {
    "name": "ipython",
    "version": 3
   },
   "file_extension": ".py",
   "mimetype": "text/x-python",
   "name": "python",
   "nbconvert_exporter": "python",
   "pygments_lexer": "ipython3",
   "version": "3.7.3"
  }
 },
 "nbformat": 4,
 "nbformat_minor": 5
}
