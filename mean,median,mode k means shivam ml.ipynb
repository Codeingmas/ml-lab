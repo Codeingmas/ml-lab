{
 "cells": [
  {
   "cell_type": "code",
   "execution_count": 3,
   "id": "central-links",
   "metadata": {},
   "outputs": [
    {
     "name": "stdout",
     "output_type": "stream",
     "text": [
      "[10, 20, 30, 40, 50]\n",
      "Mean of the above list of numbers is: 30.0\n"
     ]
    }
   ],
   "source": [
    "num_list = [10,20,30,40,50]\n",
    "num_sum = sum(num_list)\n",
    "mean = num_sum / len(num_list)\n",
    "print(num_list)\n",
    "print(\"Mean of the above list of numbers is: \" + str(round(mean,2)))\n"
   ]
  },
  {
   "cell_type": "code",
   "execution_count": 4,
   "id": "accredited-seating",
   "metadata": {},
   "outputs": [
    {
     "name": "stdout",
     "output_type": "stream",
     "text": [
      "[3, 5, 11, 13, 19, 21]\n",
      "Median of above list is: 12.0\n"
     ]
    }
   ],
   "source": [
    "num_list = [21, 13, 19, 3,11,5]\n",
    "\n",
    "num_list.sort()\n",
    "\n",
    "if len(num_list) % 2 == 0:\n",
    "   first_median = num_list[len(num_list) // 2]\n",
    "   second_median = num_list[len(num_list) // 2 - 1]\n",
    "   median = (first_median + second_median) / 2\n",
    "else:\n",
    "   median = num_list[len(num_list) // 2]\n",
    "print(num_list)\n",
    "print(\"Median of above list is: \" + str(median))\n"
   ]
  },
  {
   "cell_type": "code",
   "execution_count": 5,
   "id": "compact-angle",
   "metadata": {},
   "outputs": [
    {
     "name": "stdout",
     "output_type": "stream",
     "text": [
      "[21, 13, 19, 13, 19, 13]\n",
      "{21: 1, 13: 3, 19: 2}\n",
      "The Mode of the list is : 13\n"
     ]
    }
   ],
   "source": [
    "import collections\n",
    "num_list = [21, 13, 19, 13,19,13]\n",
    "print(num_list)\n",
    "data = collections.Counter(num_list)\n",
    "data_list = dict(data)\n",
    "print(data_list)\n",
    "max_value = max(list(data.values()))\n",
    "mode_val = [num for num, freq in data_list.items() if freq == max_value]\n",
    "if len(mode_val) == len(num_list):\n",
    "   print(\"No mode in the list\")\n",
    "else:\n",
    "   print(\"The Mode of the list is : \" + ', '.join(map(str, mode_val)))\n"
   ]
  },
  {
   "cell_type": "code",
   "execution_count": 15,
   "id": "advanced-cleveland",
   "metadata": {},
   "outputs": [
    {
     "name": "stdout",
     "output_type": "stream",
     "text": [
      "Enter no. of input: 5\n",
      "1\n",
      "2\n",
      "3\n",
      "4\n",
      "5\n",
      "mean is 3.0\n",
      "\n",
      "median is 3 \n",
      "\n",
      "variance & standard deviation is  2.5   1.5811388300841898\n"
     ]
    }
   ],
   "source": [
    "import math\n",
    "def fn():\n",
    "    n = int(input(\"Enter no. of input: \"))\n",
    "    l=[]\n",
    "    s=0\n",
    "    for i in range(n):\n",
    "        x=int(input())\n",
    "        \n",
    "        l.append(x)\n",
    "    \n",
    "    m=sum(l)/n\n",
    "    print(\"mean is \"+str(m)+\"\\n\")\n",
    "    l.sort()\n",
    "    \n",
    "    mid = math.ceil(n/2)\n",
    "    print(\"median is \"+str(l[mid-1]),\"\\n\")\n",
    "    for i in range(n):\n",
    "        l[i]=(l[i]-m)**2\n",
    "        s=s+l[i]\n",
    "    s=s/(n-1)\n",
    "    print(\"variance & standard deviation is \",s,\" \",s**(1/2))\n",
    "        \n",
    "        \n",
    "        \n",
    "        \n",
    "fn()"
   ]
  },
  {
   "cell_type": "code",
   "execution_count": null,
   "id": "configured-italian",
   "metadata": {},
   "outputs": [],
   "source": []
  }
 ],
 "metadata": {
  "kernelspec": {
   "display_name": "Python 3",
   "language": "python",
   "name": "python3"
  },
  "language_info": {
   "codemirror_mode": {
    "name": "ipython",
    "version": 3
   },
   "file_extension": ".py",
   "mimetype": "text/x-python",
   "name": "python",
   "nbconvert_exporter": "python",
   "pygments_lexer": "ipython3",
   "version": "3.7.3"
  }
 },
 "nbformat": 4,
 "nbformat_minor": 5
}
